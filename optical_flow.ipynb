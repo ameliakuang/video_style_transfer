{
 "cells": [
  {
   "cell_type": "code",
   "execution_count": 1,
   "metadata": {},
   "outputs": [
    {
     "name": "stderr",
     "output_type": "stream",
     "text": [
      "/Users/ameliakuang/.pyenv/versions/3.11.8/envs/video_style_env/lib/python3.11/site-packages/tqdm/auto.py:21: TqdmWarning: IProgress not found. Please update jupyter and ipywidgets. See https://ipywidgets.readthedocs.io/en/stable/user_install.html\n",
      "  from .autonotebook import tqdm as notebook_tqdm\n"
     ]
    }
   ],
   "source": [
    "from PIL import Image\n",
    "import torch\n",
    "import torchvision.transforms as transforms\n",
    "from temporal_loss import TemporalConsistencyLossRAFT"
   ]
  },
  {
   "cell_type": "code",
   "execution_count": 2,
   "metadata": {},
   "outputs": [
    {
     "name": "stderr",
     "output_type": "stream",
     "text": [
      "/Users/ameliakuang/.pyenv/versions/3.11.8/envs/video_style_env/lib/python3.11/site-packages/torchvision/models/_utils.py:208: UserWarning: The parameter 'pretrained' is deprecated since 0.13 and may be removed in the future, please use 'weights' instead.\n",
      "  warnings.warn(\n",
      "/Users/ameliakuang/.pyenv/versions/3.11.8/envs/video_style_env/lib/python3.11/site-packages/torchvision/models/_utils.py:223: UserWarning: Arguments other than a weight enum or `None` for 'weights' are deprecated since 0.13 and may be removed in the future. The current behavior is equivalent to passing `weights=Raft_Small_Weights.C_T_V2`. You can also use `weights=Raft_Small_Weights.DEFAULT` to get the most up-to-date weights.\n",
      "  warnings.warn(msg)\n"
     ]
    }
   ],
   "source": [
    "device = 'cuda' if torch.cuda.is_available() else 'cpu'\n",
    "temp_loss_fn = TemporalConsistencyLossRAFT(\n",
    "        small=True,\n",
    "        loss_type='l1',\n",
    "        occlusion=True,\n",
    "        occ_thresh_px=1.0,\n",
    "        device=device)\n"
   ]
  },
  {
   "cell_type": "code",
   "execution_count": 3,
   "metadata": {},
   "outputs": [
    {
     "name": "stdout",
     "output_type": "stream",
     "text": [
      "Temporal Consistency Loss: 0.00813683494925499\n"
     ]
    }
   ],
   "source": [
    "transform = transforms.Compose([\n",
    "    transforms.Resize((520, 520)),\n",
    "    transforms.ToTensor(),  # scales to [0, 1]\n",
    "])\n",
    "\n",
    "F_t = transform(Image.open('./DiffuseST/images/content/frame_0001.jpg')).unsqueeze(0)\n",
    "F_tp1 = transform(Image.open('./DiffuseST/images/content/frame_0002.jpg')).unsqueeze(0)\n",
    "S_t = transform(Image.open('./DiffuseST/output/frame_0001.jpg+the-aristocats-family.png.png')).unsqueeze(0)\n",
    "S_tp1 = transform(Image.open('./DiffuseST/output/frame_0002.jpg+the-aristocats-family.png.png')).unsqueeze(0)\n",
    "\n",
    "temporal_loss = temp_loss_fn(F_t, F_tp1, S_t, S_tp1)\n",
    "print(f\"Temporal Consistency Loss: {temporal_loss.item()}\")"
   ]
  },
  {
   "cell_type": "code",
   "execution_count": null,
   "metadata": {},
   "outputs": [],
   "source": []
  }
 ],
 "metadata": {
  "kernelspec": {
   "display_name": "video_style_env",
   "language": "python",
   "name": "python3"
  },
  "language_info": {
   "codemirror_mode": {
    "name": "ipython",
    "version": 3
   },
   "file_extension": ".py",
   "mimetype": "text/x-python",
   "name": "python",
   "nbconvert_exporter": "python",
   "pygments_lexer": "ipython3",
   "version": "3.11.8"
  }
 },
 "nbformat": 4,
 "nbformat_minor": 2
}
