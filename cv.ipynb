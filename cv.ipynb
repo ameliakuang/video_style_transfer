{
  "cells": [
    {
      "cell_type": "code",
      "execution_count": null,
      "metadata": {
        "colab": {
          "base_uri": "https://localhost:8080/"
        },
        "id": "w3GEHXSkSFR7",
        "outputId": "be53bf3e-2f5f-4c5e-b4df-4b3d4dfe3fe5"
      },
      "outputs": [
        {
          "name": "stdout",
          "output_type": "stream",
          "text": [
            "Style consistency loss: 0.0010487308027222753\n"
          ]
        }
      ],
      "source": [
        "from torchvision import transforms\n",
        "from PIL import Image\n",
        "import torch\n",
        "from vgg import Vgg16  \n",
        "import utils\n",
        "\n",
        "style_img = Image.open(\"style.png\").convert(\"RGB\")\n",
        "style_transform = transforms.Compose([\n",
        "    transforms.Resize(256),\n",
        "    transforms.CenterCrop(256),\n",
        "    transforms.ToTensor(),\n",
        "    transforms.Lambda(lambda x: x.mul(255))\n",
        "])\n",
        "style_tensor = style_transform(style_img).unsqueeze(0)\n",
        "vgg = Vgg16(requires_grad=False)\n",
        "style_features = vgg(utils.normalize_batch(style_tensor))\n",
        "style_grams = [utils.gram_matrix(f) for f in style_features]\n",
        "\n",
        "frame_img = Image.open(\"1.png\").convert(\"RGB\")\n",
        "frame_tensor = style_transform(frame_img).unsqueeze(0)\n",
        "\n",
        "frame_features = vgg(utils.normalize_batch(frame_tensor))\n",
        "\n",
        "loss_fn = torch.nn.MSELoss()\n",
        "style_loss = 0.\n",
        "for f_f, g_s in zip(frame_features, style_grams):\n",
        "    g_f = utils.gram_matrix(f_f)\n",
        "    style_loss += loss_fn(g_f, g_s)\n",
        "\n",
        "print(\"Style consistency loss:\", style_loss.item())\n"
      ]
    },
    {
      "cell_type": "code",
      "execution_count": null,
      "metadata": {
        "id": "Tdvk_APllbWo"
      },
      "outputs": [],
      "source": []
    }
  ],
  "metadata": {
    "colab": {
      "provenance": []
    },
    "kernelspec": {
      "display_name": "Python 3",
      "name": "python3"
    },
    "language_info": {
      "name": "python"
    }
  },
  "nbformat": 4,
  "nbformat_minor": 0
}
