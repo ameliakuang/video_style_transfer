{
  "nbformat": 4,
  "nbformat_minor": 0,
  "metadata": {
    "colab": {
      "provenance": []
    },
    "kernelspec": {
      "name": "python3",
      "display_name": "Python 3"
    },
    "language_info": {
      "name": "python"
    }
  },
  "cells": [
    {
      "cell_type": "code",
      "source": [
        "api_key = 'h768YyoLQHnO34G6aDiEiZJLIVjjUIiSEbdRepkyQd037V4JiamH2kxa'"
      ],
      "metadata": {
        "id": "0QO08THJqMSa"
      },
      "execution_count": 36,
      "outputs": []
    },
    {
      "cell_type": "code",
      "source": [
        "!pip install pypexels\n",
        "\n",
        "from pypexels import PyPexels\n",
        "import requests\n",
        "import os\n",
        "import cv2\n",
        "\n",
        "py_pexel = PyPexels(api_key=api_key)\n"
      ],
      "metadata": {
        "colab": {
          "base_uri": "https://localhost:8080/"
        },
        "id": "xjk2yjwOs7Ba",
        "outputId": "e7b8cd6d-a343-4dbb-979d-7a8e92937109"
      },
      "execution_count": 37,
      "outputs": [
        {
          "output_type": "stream",
          "name": "stdout",
          "text": [
            "Requirement already satisfied: pypexels in /usr/local/lib/python3.11/dist-packages (1.0.0rc1)\n",
            "Requirement already satisfied: requests in /usr/local/lib/python3.11/dist-packages (from pypexels) (2.32.3)\n",
            "Requirement already satisfied: charset-normalizer<4,>=2 in /usr/local/lib/python3.11/dist-packages (from requests->pypexels) (3.4.1)\n",
            "Requirement already satisfied: idna<4,>=2.5 in /usr/local/lib/python3.11/dist-packages (from requests->pypexels) (3.10)\n",
            "Requirement already satisfied: urllib3<3,>=1.21.1 in /usr/local/lib/python3.11/dist-packages (from requests->pypexels) (2.3.0)\n",
            "Requirement already satisfied: certifi>=2017.4.17 in /usr/local/lib/python3.11/dist-packages (from requests->pypexels) (2025.1.31)\n"
          ]
        }
      ]
    },
    {
      "cell_type": "code",
      "source": [
        "def segment_video_to_frames(video_path, output_dir='frames', max_frames=20):\n",
        "    if not os.path.exists(output_dir):\n",
        "        os.makedirs(output_dir)\n",
        "    cap = cv2.VideoCapture(video_path)\n",
        "    frame_count = 0\n",
        "    while cap.isOpened() and frame_count < max_frames:\n",
        "        ret, frame = cap.read()\n",
        "        if not ret:\n",
        "            break\n",
        "        frame_filename = os.path.join(output_dir, f'frame_{frame_count:04d}.jpg')\n",
        "        cv2.imwrite(frame_filename, frame)\n",
        "        frame_count += 1\n",
        "    cap.release()"
      ],
      "metadata": {
        "id": "646k4Y_nzxf3"
      },
      "execution_count": 38,
      "outputs": []
    },
    {
      "cell_type": "code",
      "source": [
        "\n",
        "search_videos_page = py_pexel.videos_search(query=[\"Nature\", \"pets\", \"flower\", \"animals\"], per_page=20)\n",
        "os.makedirs('video', exist_ok=True)\n",
        "for video in search_videos_page.entries:\n",
        "    best_video_file = video.video_files[0]\n",
        "    for file in video.video_files:\n",
        "        if file['quality'] == 'hd' and file['width'] > best_video_file['width']:\n",
        "            best_video_file = file\n",
        "    video_url = best_video_file['link']\n",
        "    print(\"Downloading from:\", video_url)\n",
        "    response = requests.get(video_url)\n",
        "    filename = os.path.join('video', f'train{video.id}.mp4')\n",
        "    with open(filename, 'wb') as f:\n",
        "        f.write(response.content)\n",
        "    segment_video_to_frames(filename, output_dir=os.path.join('video', f'frames_{video.id}'), max_frames=20)\n",
        "\n"
      ],
      "metadata": {
        "colab": {
          "base_uri": "https://localhost:8080/"
        },
        "id": "OdYqkR0mxk0v",
        "outputId": "5e53f373-9df3-4e16-a415-4287ac1af5ae"
      },
      "execution_count": 39,
      "outputs": [
        {
          "output_type": "stream",
          "name": "stdout",
          "text": [
            "Downloading from: https://videos.pexels.com/video-files/3042473/3042473-hd_1920_1080_30fps.mp4\n",
            "Downloading from: https://videos.pexels.com/video-files/855798/855798-hd_1920_1080_30fps.mp4\n",
            "Downloading from: https://videos.pexels.com/video-files/3009091/3009091-hd_1920_1080_30fps.mp4\n",
            "Downloading from: https://videos.pexels.com/video-files/1851001/1851001-hd_1920_1080_24fps.mp4\n",
            "Downloading from: https://videos.pexels.com/video-files/854179/854179-hd_1920_1080_25fps.mp4\n",
            "Downloading from: https://videos.pexels.com/video-files/3191251/3191251-hd_2048_1080_25fps.mp4\n",
            "Downloading from: https://videos.pexels.com/video-files/4267751/4267751-hd_1920_1080_30fps.mp4\n",
            "Downloading from: https://videos.pexels.com/video-files/3869111/3869111-hd_1920_1080_30fps.mp4\n",
            "Downloading from: https://videos.pexels.com/video-files/3077158/3077158-hd_1920_1080_30fps.mp4\n",
            "Downloading from: https://videos.pexels.com/video-files/2796080/2796080-uhd_3840_2160_25fps.mp4\n",
            "Downloading from: https://videos.pexels.com/video-files/855830/855830-hd_1920_1080_30fps.mp4\n",
            "Downloading from: https://videos.pexels.com/video-files/855029/855029-hd_1920_1080_30fps.mp4\n",
            "Downloading from: https://videos.pexels.com/video-files/3939111/3939111-hd_1920_1080_24fps.mp4\n",
            "Downloading from: https://videos.pexels.com/video-files/2796078/2796078-uhd_2560_1440_25fps.mp4\n",
            "Downloading from: https://videos.pexels.com/video-files/3775011/3775011-hd_1920_1080_25fps.mp4\n",
            "Downloading from: https://videos.pexels.com/video-files/3012470/3012470-hd_1920_1080_30fps.mp4\n",
            "Downloading from: https://videos.pexels.com/video-files/854982/854982-hd_1280_720_25fps.mp4\n",
            "Downloading from: https://videos.pexels.com/video-files/5729496/5729496-uhd_1440_2560_24fps.mp4\n",
            "Downloading from: https://videos.pexels.com/video-files/853913/853913-hd_1920_1080_25fps.mp4\n",
            "Downloading from: https://videos.pexels.com/video-files/3040808/3040808-uhd_2560_1440_30fps.mp4\n"
          ]
        }
      ]
    },
    {
      "cell_type": "code",
      "source": [
        "def frames_to_video(frame_dir, output_video_path, frame_rate=30, width=None, height=None):\n",
        "    frame_files = sorted([f for f in os.listdir(frame_dir) if f.endswith('.jpg')])\n",
        "    if not frame_files:\n",
        "        print(\"Not found\")\n",
        "        return\n",
        "    first_frame = cv2.imread(os.path.join(frame_dir, frame_files[0]))\n",
        "    if first_frame is None:\n",
        "        print(\"Error reading the first frame.\")\n",
        "        return\n",
        "    if width is None or height is None:\n",
        "        height, width, _ = first_frame.shape\n",
        "    fourcc = cv2.VideoWriter_fourcc(*'mp4v')\n",
        "    out = cv2.VideoWriter(output_video_path, fourcc, frame_rate, (width, height))\n",
        "    for frame_file in frame_files:\n",
        "        frame_path = os.path.join(frame_dir, frame_file)\n",
        "        frame = cv2.imread(frame_path)\n",
        "        if frame is not None:\n",
        "            out.write(frame)\n",
        "    out.release()\n",
        "    print(f\"Video saved to {output_video_path}\")"
      ],
      "metadata": {
        "id": "sTy52vrB0eFY"
      },
      "execution_count": 40,
      "outputs": []
    },
    {
      "cell_type": "code",
      "source": [
        "# We don't need to use it now but this is how we would use the frame to video function\n",
        "frames_to_video(\"/content/video/frames_3042473\", \"/content/test.mp4\", frame_rate=10, width=None, height=None)\n"
      ],
      "metadata": {
        "colab": {
          "base_uri": "https://localhost:8080/"
        },
        "id": "9DBWWhJ90mni",
        "outputId": "02cc915b-db03-488b-c48d-a1bcecaefbac"
      },
      "execution_count": 41,
      "outputs": [
        {
          "output_type": "stream",
          "name": "stdout",
          "text": [
            "Video saved to /content/test.mp4\n"
          ]
        }
      ]
    }
  ]
}